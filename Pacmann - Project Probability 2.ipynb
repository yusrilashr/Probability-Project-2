{
 "cells": [
  {
   "cell_type": "markdown",
   "id": "222a1bf9",
   "metadata": {},
   "source": [
    "# Insurance Analysis with Probability\n",
    "---"
   ]
  },
  {
   "cell_type": "code",
   "execution_count": 43,
   "id": "d4bd0126",
   "metadata": {},
   "outputs": [],
   "source": [
    "import pandas as pd\n",
    "import numpy as np"
   ]
  },
  {
   "cell_type": "code",
   "execution_count": 44,
   "id": "24bad132",
   "metadata": {},
   "outputs": [],
   "source": [
    "df = pd.read_csv('D:/pacmann/prob remed/insurance.csv')"
   ]
  },
  {
   "cell_type": "code",
   "execution_count": 45,
   "id": "10be0539",
   "metadata": {
    "scrolled": true
   },
   "outputs": [
    {
     "data": {
      "text/html": [
       "<div>\n",
       "<style scoped>\n",
       "    .dataframe tbody tr th:only-of-type {\n",
       "        vertical-align: middle;\n",
       "    }\n",
       "\n",
       "    .dataframe tbody tr th {\n",
       "        vertical-align: top;\n",
       "    }\n",
       "\n",
       "    .dataframe thead th {\n",
       "        text-align: right;\n",
       "    }\n",
       "</style>\n",
       "<table border=\"1\" class=\"dataframe\">\n",
       "  <thead>\n",
       "    <tr style=\"text-align: right;\">\n",
       "      <th></th>\n",
       "      <th>age</th>\n",
       "      <th>sex</th>\n",
       "      <th>bmi</th>\n",
       "      <th>children</th>\n",
       "      <th>smoker</th>\n",
       "      <th>region</th>\n",
       "      <th>charges</th>\n",
       "    </tr>\n",
       "  </thead>\n",
       "  <tbody>\n",
       "    <tr>\n",
       "      <th>0</th>\n",
       "      <td>19</td>\n",
       "      <td>female</td>\n",
       "      <td>27.900</td>\n",
       "      <td>0</td>\n",
       "      <td>yes</td>\n",
       "      <td>southwest</td>\n",
       "      <td>16884.92400</td>\n",
       "    </tr>\n",
       "    <tr>\n",
       "      <th>1</th>\n",
       "      <td>18</td>\n",
       "      <td>male</td>\n",
       "      <td>33.770</td>\n",
       "      <td>1</td>\n",
       "      <td>no</td>\n",
       "      <td>southeast</td>\n",
       "      <td>1725.55230</td>\n",
       "    </tr>\n",
       "    <tr>\n",
       "      <th>2</th>\n",
       "      <td>28</td>\n",
       "      <td>male</td>\n",
       "      <td>33.000</td>\n",
       "      <td>3</td>\n",
       "      <td>no</td>\n",
       "      <td>southeast</td>\n",
       "      <td>4449.46200</td>\n",
       "    </tr>\n",
       "    <tr>\n",
       "      <th>3</th>\n",
       "      <td>33</td>\n",
       "      <td>male</td>\n",
       "      <td>22.705</td>\n",
       "      <td>0</td>\n",
       "      <td>no</td>\n",
       "      <td>northwest</td>\n",
       "      <td>21984.47061</td>\n",
       "    </tr>\n",
       "    <tr>\n",
       "      <th>4</th>\n",
       "      <td>32</td>\n",
       "      <td>male</td>\n",
       "      <td>28.880</td>\n",
       "      <td>0</td>\n",
       "      <td>no</td>\n",
       "      <td>northwest</td>\n",
       "      <td>3866.85520</td>\n",
       "    </tr>\n",
       "  </tbody>\n",
       "</table>\n",
       "</div>"
      ],
      "text/plain": [
       "   age     sex     bmi  children smoker     region      charges\n",
       "0   19  female  27.900         0    yes  southwest  16884.92400\n",
       "1   18    male  33.770         1     no  southeast   1725.55230\n",
       "2   28    male  33.000         3     no  southeast   4449.46200\n",
       "3   33    male  22.705         0     no  northwest  21984.47061\n",
       "4   32    male  28.880         0     no  northwest   3866.85520"
      ]
     },
     "execution_count": 45,
     "metadata": {},
     "output_type": "execute_result"
    }
   ],
   "source": [
    "df.head()"
   ]
  },
  {
   "cell_type": "code",
   "execution_count": 46,
   "id": "c01ea8aa",
   "metadata": {},
   "outputs": [
    {
     "data": {
      "text/plain": [
       "63770.42801"
      ]
     },
     "execution_count": 46,
     "metadata": {},
     "output_type": "execute_result"
    }
   ],
   "source": [
    "df['charges'].max()"
   ]
  },
  {
   "cell_type": "code",
   "execution_count": 47,
   "id": "417bf6be",
   "metadata": {},
   "outputs": [
    {
     "data": {
      "text/plain": [
       "(1338, 7)"
      ]
     },
     "execution_count": 47,
     "metadata": {},
     "output_type": "execute_result"
    }
   ],
   "source": [
    "df.shape"
   ]
  },
  {
   "cell_type": "code",
   "execution_count": 48,
   "id": "c067e9d8",
   "metadata": {},
   "outputs": [
    {
     "data": {
      "text/plain": [
       "age         0\n",
       "sex         0\n",
       "bmi         0\n",
       "children    0\n",
       "smoker      0\n",
       "region      0\n",
       "charges     0\n",
       "dtype: int64"
      ]
     },
     "execution_count": 48,
     "metadata": {},
     "output_type": "execute_result"
    }
   ],
   "source": [
    "df.isna().sum()"
   ]
  },
  {
   "cell_type": "markdown",
   "id": "7ce51a45",
   "metadata": {},
   "source": [
    "## LANGKAH 1"
   ]
  },
  {
   "cell_type": "markdown",
   "id": "4e9d622e",
   "metadata": {},
   "source": [
    "1. Rata-rata umur pengguna asuransi"
   ]
  },
  {
   "cell_type": "code",
   "execution_count": 49,
   "id": "b64ecd61",
   "metadata": {},
   "outputs": [
    {
     "data": {
      "text/plain": [
       "39.20702541106129"
      ]
     },
     "execution_count": 49,
     "metadata": {},
     "output_type": "execute_result"
    }
   ],
   "source": [
    "df['age'].mean()"
   ]
  },
  {
   "cell_type": "markdown",
   "id": "4a9428c2",
   "metadata": {},
   "source": [
    "2. Rata-rata tagihan perokok vs tidak perokok"
   ]
  },
  {
   "cell_type": "code",
   "execution_count": 50,
   "id": "d922664e",
   "metadata": {},
   "outputs": [
    {
     "name": "stdout",
     "output_type": "stream",
     "text": [
      "rata tagihan perokok adalah: 32050.23183153285\n",
      "rata tagihan perokok adalah: 8434.268297856199\n"
     ]
    }
   ],
   "source": [
    "df_mean_smoker = df.loc[df['smoker'] == 'yes', 'charges'].mean()\n",
    "print('rata tagihan perokok adalah:', df_mean_smoker)\n",
    "\n",
    "df_mean_non_smoker = df.loc[df['smoker'] == 'no', 'charges'].mean()\n",
    "print('rata tagihan perokok adalah:', df_mean_non_smoker)"
   ]
  },
  {
   "cell_type": "markdown",
   "id": "fe68f098",
   "metadata": {},
   "source": [
    "3. Variansi tagihan dalam perokok vs tidak merokok"
   ]
  },
  {
   "cell_type": "code",
   "execution_count": 51,
   "id": "ac1cbbad",
   "metadata": {},
   "outputs": [
    {
     "name": "stdout",
     "output_type": "stream",
     "text": [
      "variansi tagihan perokok adalah: 133207311.20634921\n",
      "variansi tagihan perokok adalah: 35925420.49611172\n"
     ]
    }
   ],
   "source": [
    "df_var_smoker = df.loc[df['smoker'] == 'yes', 'charges'].var()\n",
    "print('variansi tagihan perokok adalah:', df_var_smoker)\n",
    "\n",
    "df_var_non_smoker = df.loc[df['smoker'] == 'no', 'charges'].var()\n",
    "print('variansi tagihan perokok adalah:', df_var_non_smoker)"
   ]
  },
  {
   "cell_type": "markdown",
   "id": "38f7c6dd",
   "metadata": {},
   "source": [
    "4. BMI perokok vs non perokok"
   ]
  },
  {
   "cell_type": "code",
   "execution_count": 52,
   "id": "148d5fe4",
   "metadata": {},
   "outputs": [
    {
     "name": "stdout",
     "output_type": "stream",
     "text": [
      "rata-rata BMI perokok 30.708448905109503\n",
      "rata-rata BMI non perokok 30.651795112781922\n"
     ]
    }
   ],
   "source": [
    "bmi_smoker = df.loc[df['smoker'] == 'yes', 'bmi'].mean()\n",
    "print('rata-rata BMI perokok', bmi_smoker)\n",
    "\n",
    "bmi_non_smoker = df.loc[df['smoker'] == 'no', 'bmi'].mean()\n",
    "print('rata-rata BMI non perokok', bmi_non_smoker)"
   ]
  },
  {
   "cell_type": "markdown",
   "id": "fe1843bf",
   "metadata": {},
   "source": [
    "5. BMI laki-laki dan perempuan"
   ]
  },
  {
   "cell_type": "code",
   "execution_count": 53,
   "id": "e4e71b55",
   "metadata": {},
   "outputs": [
    {
     "name": "stdout",
     "output_type": "stream",
     "text": [
      "rata-rata BMI perempuan: 30.377749244713023\n",
      "rata-rata BMI laki-laki: 30.943128698224832\n"
     ]
    }
   ],
   "source": [
    "bmi_women = df.loc[df['sex'] == 'female', 'bmi'].mean()\n",
    "print('rata-rata BMI perempuan:', bmi_women)\n",
    "\n",
    "bmi_men = df.loc[df['sex'] == 'male', 'bmi'].mean()\n",
    "print('rata-rata BMI laki-laki:', bmi_men)"
   ]
  },
  {
   "cell_type": "markdown",
   "id": "7cf5842f",
   "metadata": {},
   "source": [
    "### LANGKAH 2"
   ]
  },
  {
   "cell_type": "markdown",
   "id": "a97421b5",
   "metadata": {},
   "source": [
    "1. Berapa peluang seseorang tersebut adalah laki-laki diketahui dia adalah perokok?"
   ]
  },
  {
   "cell_type": "code",
   "execution_count": 54,
   "id": "d9af1f42",
   "metadata": {},
   "outputs": [],
   "source": [
    "n_smokers = (df['smoker'] == 'yes').sum()\n",
    "n_total = len(df)\n",
    "p_smoker = n_smokers / n_total\n",
    "\n",
    "n_males = (df['sex'] == 'male').sum()\n",
    "p_male = n_males / n_total"
   ]
  },
  {
   "cell_type": "code",
   "execution_count": 55,
   "id": "9664f4a5",
   "metadata": {},
   "outputs": [],
   "source": [
    "smokers_male = df.loc[(df['sex'] == 'male') & (df['smoker'] == 'yes')]\n",
    "n_smokers_male = len(smokers_male)\n",
    "p_smoker_given_male = n_smokers_male / n_males"
   ]
  },
  {
   "cell_type": "code",
   "execution_count": 56,
   "id": "b762294e",
   "metadata": {
    "scrolled": true
   },
   "outputs": [
    {
     "name": "stdout",
     "output_type": "stream",
     "text": [
      "Peluang seseorang adalah laki-laki diketahui dia adalah perokok: 0.5802919708029198\n"
     ]
    }
   ],
   "source": [
    "p_male_given_smoker = (p_smoker_given_male * p_male) / p_smoker\n",
    "print('Peluang seseorang adalah laki-laki diketahui dia adalah perokok:', p_male_given_smoker)"
   ]
  },
  {
   "cell_type": "markdown",
   "id": "d174d279",
   "metadata": {},
   "source": [
    "2. Berapa peluang seseorang tersebut adalah perempuan diketahui dia adalah perokok?"
   ]
  },
  {
   "cell_type": "code",
   "execution_count": 57,
   "id": "83e21365",
   "metadata": {},
   "outputs": [],
   "source": [
    "n_females = (df['sex'] == 'female').sum()\n",
    "p_female = n_females / n_total"
   ]
  },
  {
   "cell_type": "code",
   "execution_count": 58,
   "id": "1ae784fb",
   "metadata": {},
   "outputs": [],
   "source": [
    "smokers_female = df.loc[(df['sex'] == 'female') & (df['smoker'] == 'yes')]\n",
    "n_smokers_female = len(smokers_female)\n",
    "p_smoker_given_female = n_smokers_female / n_females"
   ]
  },
  {
   "cell_type": "code",
   "execution_count": 59,
   "id": "830bdd90",
   "metadata": {},
   "outputs": [
    {
     "name": "stdout",
     "output_type": "stream",
     "text": [
      "Peluang seseorang adalah perempuan diketahui dia adalah perokok: 0.4197080291970803\n"
     ]
    }
   ],
   "source": [
    "p_female_given_smoker = (p_smoker_given_female * p_female) / p_smoker\n",
    "print('Peluang seseorang adalah perempuan diketahui dia adalah perokok:', p_female_given_smoker)"
   ]
  },
  {
   "cell_type": "markdown",
   "id": "7d6e6d0d",
   "metadata": {},
   "source": [
    "3. Gender mana yang memiliki tagihan paling tinggi?"
   ]
  },
  {
   "cell_type": "code",
   "execution_count": 60,
   "id": "80f97da7",
   "metadata": {},
   "outputs": [
    {
     "name": "stdout",
     "output_type": "stream",
     "text": [
      "tagihan pengguna asuransi laki-laki sebesar 9434763.79614\n",
      "tagihan pengguna asuransi perempuan sebesar 8321061.194619\n",
      "tagihan pengguna asuransi laki-laki sebesar 13956.751177721886\n",
      "tagihan pengguna asuransi perempuan sebesar 12569.57884383534\n"
     ]
    }
   ],
   "source": [
    "male_charges = df.loc[df['sex'] == 'male', 'charges'].sum()\n",
    "female_charges = df.loc[df['sex'] == 'female', 'charges'].sum()\n",
    "\n",
    "male_charges_avg = df.loc[df['sex'] == 'male', 'charges'].mean()\n",
    "female_charges_avg = df.loc[df['sex'] == 'female', 'charges'].mean()\n",
    "\n",
    "print('tagihan pengguna asuransi laki-laki sebesar', male_charges)\n",
    "print('tagihan pengguna asuransi perempuan sebesar', female_charges)\n",
    "\n",
    "print('tagihan pengguna asuransi laki-laki sebesar', male_charges_avg)\n",
    "print('tagihan pengguna asuransi perempuan sebesar', female_charges_avg)"
   ]
  },
  {
   "cell_type": "markdown",
   "id": "60d4148e",
   "metadata": {},
   "source": [
    "4. Proporsi perokok dengan non perokok"
   ]
  },
  {
   "cell_type": "code",
   "execution_count": 61,
   "id": "f011d9c6",
   "metadata": {},
   "outputs": [
    {
     "name": "stdout",
     "output_type": "stream",
     "text": [
      "proporsi pengguna perokok adalah 0.20478325859491778\n",
      "proporsi pengguna non-perokok adalah 0.7952167414050823\n"
     ]
    }
   ],
   "source": [
    "n_smokers = (df['smoker'] == 'yes').sum()\n",
    "n_non_smokers = (df['smoker'] == 'no').sum()\n",
    "n_total = len(df)\n",
    "\n",
    "p_smokers = n_smokers / n_total\n",
    "p_non_smokers = n_non_smokers / n_total\n",
    "\n",
    "print('proporsi pengguna perokok adalah', p_smokers)\n",
    "print('proporsi pengguna non-perokok adalah', p_non_smokers)"
   ]
  },
  {
   "cell_type": "markdown",
   "id": "5c1a5313",
   "metadata": {},
   "source": [
    "5. Apakah setiap region memiliki proporsi data banyak orang yang sama?"
   ]
  },
  {
   "cell_type": "code",
   "execution_count": 62,
   "id": "8208da38",
   "metadata": {},
   "outputs": [
    {
     "data": {
      "text/plain": [
       "array(['southwest', 'southeast', 'northwest', 'northeast'], dtype=object)"
      ]
     },
     "execution_count": 62,
     "metadata": {},
     "output_type": "execute_result"
    }
   ],
   "source": [
    "df['region'].unique()"
   ]
  },
  {
   "cell_type": "code",
   "execution_count": 63,
   "id": "5ebb05ed",
   "metadata": {
    "scrolled": true
   },
   "outputs": [
    {
     "data": {
      "text/plain": [
       "region\n",
       "northeast    0.242152\n",
       "northwest    0.242900\n",
       "southeast    0.272048\n",
       "southwest    0.242900\n",
       "Name: region, dtype: float64"
      ]
     },
     "execution_count": 63,
     "metadata": {},
     "output_type": "execute_result"
    }
   ],
   "source": [
    "region = df.groupby(['region'])['region'].count()\n",
    "p_region = region / n_total\n",
    "p_region"
   ]
  },
  {
   "cell_type": "code",
   "execution_count": 64,
   "id": "9e61d4f8",
   "metadata": {},
   "outputs": [
    {
     "data": {
      "image/png": "[encoded data removed]",
      "text/plain": [
       "<Figure size 864x504 with 1 Axes>"
      ]
     },
     "metadata": {
      "needs_background": "light"
     },
     "output_type": "display_data"
    }
   ],
   "source": [
    "import matplotlib.pyplot as plt\n",
    "import seaborn as sns\n",
    "\n",
    "plt.figure(figsize = (12,7))\n",
    "plt.bar(p_region.index, p_region.values, color = 'blue')\n",
    "\n",
    "plt.title('Proporsi per Region')\n",
    "plt.xlabel('Region')\n",
    "plt.ylabel('Peluang')\n",
    "\n",
    "# Tampilkan plot\n",
    "plt.show()"
   ]
  },
  {
   "cell_type": "markdown",
   "id": "0080bfdc",
   "metadata": {},
   "source": [
    "### LANGKAH 3"
   ]
  },
  {
   "cell_type": "markdown",
   "id": "eb535514",
   "metadata": {},
   "source": [
    "1. Mencari peluang besar tagihan berdasarkan BMI"
   ]
  },
  {
   "cell_type": "code",
   "execution_count": 65,
   "id": "353d755e",
   "metadata": {},
   "outputs": [
    {
     "name": "stdout",
     "output_type": "stream",
     "text": [
      "Peluang tagihan: 0.8634217605600918\n"
     ]
    }
   ],
   "source": [
    "charges = df['charges']\n",
    "bmi = df['bmi']\n",
    "\n",
    "mean = charges.mean()\n",
    "var = charges.var()\n",
    "\n",
    "from scipy.stats import norm\n",
    "\n",
    "x = 0\n",
    "std = np.sqrt(var)\n",
    "\n",
    "P_1 = 1 - norm.cdf(x, mean, std)\n",
    "\n",
    "print('Peluang tagihan:', P_1)"
   ]
  },
  {
   "cell_type": "markdown",
   "id": "08596d08",
   "metadata": {},
   "source": [
    "2. Mencari kemungkin terjadi, seorang perokok dengan BMI diatas 25 akan mendapatkan tagihan kesehatan di atas 16.700."
   ]
  },
  {
   "cell_type": "code",
   "execution_count": 66,
   "id": "86a364c4",
   "metadata": {},
   "outputs": [
    {
     "name": "stdout",
     "output_type": "stream",
     "text": [
      "Peluang tagihan di atas 16.700 untuk BMI di atas 25: 0.9347041068906858\n"
     ]
    }
   ],
   "source": [
    "from scipy.stats import norm\n",
    "\n",
    "x = 16700\n",
    "std = np.sqrt(var)\n",
    "\n",
    "# filter bmi greater than 25 and charges greater than x\n",
    "bmi_filtered = bmi[(bmi > 25) & (charges > x)]\n",
    "mean_filtered = charges[(bmi > 25) & (charges > x)].mean()\n",
    "var_filtered = charges[(bmi > 25) & (charges > x)].var()\n",
    "\n",
    "P_bmi_above_25 = 1 - norm.cdf(x, mean_filtered, np.sqrt(var_filtered))\n",
    "\n",
    "print('Peluang tagihan di atas 16.700 untuk BMI di atas 25:', P_bmi_above_25)"
   ]
  },
  {
   "cell_type": "markdown",
   "id": "e47cedb1",
   "metadata": {},
   "source": [
    "3. Berapa peluang seseorang acak tagihan kesehatannya diatas 16.7k diketahui dia adalah perokok"
   ]
  },
  {
   "cell_type": "code",
   "execution_count": 67,
   "id": "37f6a9ab",
   "metadata": {},
   "outputs": [
    {
     "name": "stdout",
     "output_type": "stream",
     "text": [
      "Peluang tagihan di atas 16.700 untuk pengguna asuransi yang merokok: 0.9082404944909883\n"
     ]
    }
   ],
   "source": [
    "smoker = df['smoker']\n",
    "\n",
    "x = 16700\n",
    "std = np.sqrt(var)\n",
    "\n",
    "# filter smokers\n",
    "smoker_filtered = smoker[smoker == 'yes']\n",
    "mean_filtered = charges[smoker == 'yes'].mean()\n",
    "var_filtered = charges[smoker == 'yes'].var()\n",
    "\n",
    "P_rokok = 1 - norm.cdf(x, mean_filtered, np.sqrt(var_filtered))\n",
    "\n",
    "print('Peluang tagihan di atas 16.700 untuk pengguna asuransi yang merokok:', P_rokok)"
   ]
  },
  {
   "cell_type": "markdown",
   "id": "2e76c292",
   "metadata": {},
   "source": [
    "4. Mana yang lebih mungkin terjadi"
   ]
  },
  {
   "cell_type": "code",
   "execution_count": 68,
   "id": "ae8c8bfa",
   "metadata": {},
   "outputs": [
    {
     "name": "stdout",
     "output_type": "stream",
     "text": [
      "Peluang tagihan di atas 16.700 untuk BMI di atas 25: 0.9207283261604335\n"
     ]
    }
   ],
   "source": [
    "from scipy.stats import norm\n",
    "\n",
    "x = 16700\n",
    "std = np.sqrt(var)\n",
    "\n",
    "# filter bmi greater than 25 and charges greater than x\n",
    "bmi_filtered = bmi[(bmi < 25) & (charges > x)]\n",
    "mean_filtered = charges[(bmi < 25) & (charges > x)].mean()\n",
    "var_filtered = charges[(bmi < 25) & (charges > x)].var()\n",
    "\n",
    "P_bmi_under_25 = 1 - norm.cdf(x, mean_filtered, np.sqrt(var_filtered))\n",
    "\n",
    "print('Peluang tagihan di atas 16.700 untuk BMI di atas 25:', P_bmi_under_25)"
   ]
  },
  {
   "cell_type": "markdown",
   "id": "86b0a53f",
   "metadata": {},
   "source": [
    "5. Mana yang lebih mungkin terjadi"
   ]
  },
  {
   "cell_type": "code",
   "execution_count": 69,
   "id": "5b3f29f7",
   "metadata": {
    "scrolled": true
   },
   "outputs": [
    {
     "name": "stdout",
     "output_type": "stream",
     "text": [
      "Peluang tagihan di atas 16.700 untuk pengguna asuransi yang merokok dan BMI di atas 25: 0.9573559499024568\n"
     ]
    }
   ],
   "source": [
    "from scipy.stats import norm\n",
    "\n",
    "x = 16700\n",
    "std = np.sqrt(var)\n",
    "\n",
    "# filter BMI and smokers\n",
    "bmi_filtered = bmi[bmi > 25]\n",
    "smoker_filtered = smoker[smoker == 'yes']\n",
    "mean_filtered = charges[(bmi > 25) & (smoker == 'yes')].mean()\n",
    "var_filtered = charges[(bmi > 25) & (smoker == 'yes')].var()\n",
    "\n",
    "P_rokok_bmi_above_25 = 1 - norm.cdf(x, mean_filtered, np.sqrt(var_filtered))\n",
    "\n",
    "print('Peluang tagihan di atas 16.700 untuk pengguna asuransi yang merokok dan BMI di atas 25:', P_rokok_bmi_above_25)"
   ]
  },
  {
   "cell_type": "code",
   "execution_count": 70,
   "id": "df45dfce",
   "metadata": {},
   "outputs": [
    {
     "name": "stdout",
     "output_type": "stream",
     "text": [
      "Peluang tagihan di atas 16.700 untuk pengguna asuransi yang tidak merokok dan BMI di atas 25: 0.09076840690505361\n"
     ]
    }
   ],
   "source": [
    "from scipy.stats import norm\n",
    "\n",
    "x = 16700\n",
    "std = np.sqrt(var)\n",
    "\n",
    "# filter BMI and smokers\n",
    "bmi_filtered = bmi[bmi > 25]\n",
    "smoker_filtered = smoker[smoker == 'no']\n",
    "mean_filtered = charges[(bmi > 25) & (smoker == 'no')].mean()\n",
    "var_filtered = charges[(bmi > 25) & (smoker == 'no')].var()\n",
    "\n",
    "P_tidak_rokok_bmi_above_25 = 1 - norm.cdf(x, mean_filtered, np.sqrt(var_filtered))\n",
    "\n",
    "print('Peluang tagihan di atas 16.700 untuk pengguna asuransi yang tidak merokok dan BMI di atas 25:', P_tidak_rokok_bmi_above_25)"
   ]
  },
  {
   "cell_type": "markdown",
   "id": "f5e9f643",
   "metadata": {},
   "source": [
    "### LANGKAH 4"
   ]
  },
  {
   "cell_type": "code",
   "execution_count": 71,
   "id": "06969dec",
   "metadata": {},
   "outputs": [
    {
     "data": {
      "text/plain": [
       "array([[1.46652372e+08, 3.84866703e+03],\n",
       "       [3.84866703e+03, 1.62968876e-01]])"
      ]
     },
     "execution_count": 71,
     "metadata": {},
     "output_type": "execute_result"
    }
   ],
   "source": [
    "cov_smokers = np.stack((df['charges'], (df['smoker'] == 'yes').astype(int)), axis=0)\n",
    "\n",
    "\n",
    "covariance = np.cov(cov_smokers, ddof = 1)\n",
    "covariance"
   ]
  },
  {
   "cell_type": "code",
   "execution_count": 72,
   "id": "14e27a3d",
   "metadata": {},
   "outputs": [
    {
     "data": {
      "text/plain": [
       "array([[ 1.46652372e+08, -3.84866703e+03],\n",
       "       [-3.84866703e+03,  1.62968876e-01]])"
      ]
     },
     "execution_count": 72,
     "metadata": {},
     "output_type": "execute_result"
    }
   ],
   "source": [
    "cov_non_smokers = np.stack((df['charges'], (df['smoker'] == 'no').astype(int)), axis=0)\n",
    "\n",
    "\n",
    "covariance = np.cov(cov_non_smokers)\n",
    "covariance"
   ]
  },
  {
   "cell_type": "code",
   "execution_count": 73,
   "id": "f2417130",
   "metadata": {},
   "outputs": [],
   "source": [
    "df_new = df.replace({'smoker': {'no': 0, 'yes': 1}})"
   ]
  },
  {
   "cell_type": "code",
   "execution_count": 74,
   "id": "b7499c9e",
   "metadata": {},
   "outputs": [],
   "source": [
    "df_new1 = df_new.replace({'sex': {'female': 0, 'male': 1}})"
   ]
  },
  {
   "cell_type": "code",
   "execution_count": 75,
   "id": "fb09817e",
   "metadata": {},
   "outputs": [
    {
     "data": {
      "text/plain": [
       "age         0.299008\n",
       "sex         0.057292\n",
       "bmi         0.198341\n",
       "children    0.067998\n",
       "smoker      0.787251\n",
       "charges     1.000000\n",
       "Name: charges, dtype: float64"
      ]
     },
     "execution_count": 75,
     "metadata": {},
     "output_type": "execute_result"
    }
   ],
   "source": [
    "correlations = df_new1.corr()['charges']\n",
    "correlations"
   ]
  },
  {
   "cell_type": "code",
   "execution_count": 85,
   "id": "f8c692c8",
   "metadata": {
    "scrolled": true
   },
   "outputs": [
    {
     "data": {
      "image/png": "[encoded data removed]",
      "text/plain": [
       "<Figure size 864x432 with 2 Axes>"
      ]
     },
     "metadata": {
      "needs_background": "light"
     },
     "output_type": "display_data"
    }
   ],
   "source": [
    "import matplotlib.pyplot as plt\n",
    "import seaborn as sns\n",
    "\n",
    "plt.figure(figsize=(12,6))\n",
    "sns.heatmap(df_new1.corr(),annot=True,fmt='.3f')\n",
    "plt.show()"
   ]
  },
  {
   "cell_type": "markdown",
   "id": "f4dfe697",
   "metadata": {},
   "source": [
    "### LANGKAH 5"
   ]
  },
  {
   "cell_type": "markdown",
   "id": "3461ddb2",
   "metadata": {},
   "source": [
    "1. Tagihan kesehatan perokok lebih tinggi daripada tagihan kesehatan non perokok"
   ]
  },
  {
   "cell_type": "markdown",
   "id": "05301bcf",
   "metadata": {},
   "source": [
    "T-Test"
   ]
  },
  {
   "cell_type": "code",
   "execution_count": 77,
   "id": "1b04b59d",
   "metadata": {},
   "outputs": [
    {
     "name": "stdout",
     "output_type": "stream",
     "text": [
      "T-statistic = 32.7519, p-value = 0.0000\n"
     ]
    }
   ],
   "source": [
    "alpha = 0.05\n",
    "\n",
    "from scipy.stats import ttest_ind\n",
    "\n",
    "charges_per_smoker = [df[df['smoker'] == 'yes']['charges'], df[df['smoker'] == 'no']['charges']]\n",
    "\n",
    "# Uji perbedaan rata-rata antara kedua kelompok menggunakan t-test\n",
    "stat, p = ttest_ind(charges_per_smoker[0], charges_per_smoker[1], equal_var=False, alternative='two-sided')\n",
    "\n",
    "print('T-statistic = %.4f, p-value = %.4f' % (stat, p))"
   ]
  },
  {
   "cell_type": "code",
   "execution_count": 78,
   "id": "102227c8",
   "metadata": {},
   "outputs": [
    {
     "name": "stdout",
     "output_type": "stream",
     "text": [
      "T-value = 32.7519, p-value = 0.0000. Terdapat bukti yang cukup untuk menolak hipotesis null.\n"
     ]
    }
   ],
   "source": [
    "if p < 0.05:\n",
    "    print('T-value = %.4f, p-value = %.4f. Terdapat bukti yang cukup untuk menolak hipotesis null.' % (stat, p))\n",
    "else:\n",
    "    print('T-value = %.4f, p-value = %.4f. Tidak terdapat bukti yang cukup untuk menolak hipotesis null.' % (stat, p))"
   ]
  },
  {
   "cell_type": "markdown",
   "id": "fa943189",
   "metadata": {},
   "source": [
    "Z-Test"
   ]
  },
  {
   "cell_type": "code",
   "execution_count": 79,
   "id": "0fe309a1",
   "metadata": {},
   "outputs": [
    {
     "name": "stdout",
     "output_type": "stream",
     "text": [
      "Z-score: 46.66492117272371\n",
      "P-value: 0.0\n"
     ]
    }
   ],
   "source": [
    "from statsmodels.stats.weightstats import ztest\n",
    "\n",
    "smoker_charges = df[df['smoker'] == 'yes']['charges']\n",
    "non_smoker_charges = df[df['smoker'] == 'no']['charges']\n",
    "\n",
    "z_score, p_value = ztest(x1=smoker_charges, x2=non_smoker_charges, alternative='larger')\n",
    "\n",
    "print('Z-score:', z_score)\n",
    "print('P-value:', p_value)"
   ]
  },
  {
   "cell_type": "code",
   "execution_count": 80,
   "id": "ba4c1f23",
   "metadata": {},
   "outputs": [
    {
     "name": "stdout",
     "output_type": "stream",
     "text": [
      "Z-score = 32.7519, p-value = 0.0000. Terdapat bukti yang cukup untuk menolak hipotesis null.\n"
     ]
    }
   ],
   "source": [
    "alpha = 0.05\n",
    "if p < alpha:\n",
    "    print('Z-score = %.4f, p-value = %.4f. Terdapat bukti yang cukup untuk menolak hipotesis null.' % (stat, p))\n",
    "else:\n",
    "    print('Z-score = %.4f, p-value = %.4f. Tidak terdapat bukti yang cukup untuk menolak hipotesis null.' % (stat, p))"
   ]
  },
  {
   "cell_type": "markdown",
   "id": "af4ab810",
   "metadata": {},
   "source": [
    "**dikarenakan data yang digunakan lebih dari 30 maka dianjurkan menggunakan Z-Test**"
   ]
  },
  {
   "cell_type": "markdown",
   "id": "11566789",
   "metadata": {},
   "source": [
    "2. Tagihan kesehatan dengan BMI diatas 25 lebih tinggi daripada tagihan kesehatan dengan BMI dibawah 25"
   ]
  },
  {
   "cell_type": "code",
   "execution_count": 81,
   "id": "2b321839",
   "metadata": {},
   "outputs": [
    {
     "name": "stdout",
     "output_type": "stream",
     "text": [
      "Z-score: 4.305033989510502\n",
      "P-value: 8.348004956755111e-06\n"
     ]
    }
   ],
   "source": [
    "from statsmodels.stats.weightstats import ztest\n",
    "\n",
    "bmi_above_25_charges = df[df['bmi'] > 25]['charges']\n",
    "bmi_below_25_charges = df[df['bmi'] < 25]['charges']\n",
    "\n",
    "z_score1, p_value1 = ztest(x1=bmi_above_25_charges, x2=bmi_below_25_charges, alternative='larger')\n",
    "\n",
    "print('Z-score:', z_score1)\n",
    "print('P-value:', p_value1)"
   ]
  },
  {
   "cell_type": "code",
   "execution_count": 82,
   "id": "5a8b2be0",
   "metadata": {},
   "outputs": [
    {
     "name": "stdout",
     "output_type": "stream",
     "text": [
      "menolak H0.\n"
     ]
    }
   ],
   "source": [
    "alpha = 0.05\n",
    "if p_value1 < alpha:\n",
    "    print(\"menolak H0.\")\n",
    "else:\n",
    "    print(\"gagal menolak H0.\")"
   ]
  },
  {
   "cell_type": "markdown",
   "id": "af409937",
   "metadata": {},
   "source": [
    "3. BMI laki-laki dan perempuan sama"
   ]
  },
  {
   "cell_type": "code",
   "execution_count": 83,
   "id": "a23ee3d8",
   "metadata": {},
   "outputs": [
    {
     "name": "stdout",
     "output_type": "stream",
     "text": [
      "Z-score: 1.6967526357522242\n",
      "P-value: 0.04487171839971956\n"
     ]
    }
   ],
   "source": [
    "from statsmodels.stats.weightstats import ztest\n",
    "\n",
    "bmi_male = df[df['sex'] == 'male']['bmi']\n",
    "bmi_female = df[df['sex'] == 'female']['bmi']\n",
    "\n",
    "z_score2, p_value2 = ztest(x1=bmi_male, x2=bmi_female, alternative='larger')\n",
    "\n",
    "print('Z-score:', z_score2)\n",
    "print('P-value:', p_value2)"
   ]
  },
  {
   "cell_type": "code",
   "execution_count": 84,
   "id": "212b9a41",
   "metadata": {},
   "outputs": [
    {
     "name": "stdout",
     "output_type": "stream",
     "text": [
      "menolak H0.\n"
     ]
    }
   ],
   "source": [
    "if p_value2 < 0.05:\n",
    "    print(\"menolak H0.\")\n",
    "else:\n",
    "    print(\"gagal menolak H0.\")"
   ]
  }
 ],
 "metadata": {
  "kernelspec": {
   "display_name": "Python 3",
   "language": "python",
   "name": "python3"
  },
  "language_info": {
   "codemirror_mode": {
    "name": "ipython",
    "version": 3
   },
   "file_extension": ".py",
   "mimetype": "text/x-python",
   "name": "python",
   "nbconvert_exporter": "python",
   "pygments_lexer": "ipython3",
   "version": "3.8.8"
  }
 },
 "nbformat": 4,
 "nbformat_minor": 5
}
